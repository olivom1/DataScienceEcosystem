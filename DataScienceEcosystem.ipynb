{
  "nbformat": 4,
  "nbformat_minor": 0,
  "metadata": {
    "colab": {
      "provenance": []
    },
    "kernelspec": {
      "name": "python3",
      "display_name": "Python 3"
    },
    "language_info": {
      "name": "python"
    }
  },
  "cells": [
    {
      "cell_type": "markdown",
      "source": [
        "#Data Science Tools and Ecosystem"
      ],
      "metadata": {
        "id": "yuwPEuwdvBoI"
      }
    },
    {
      "cell_type": "markdown",
      "source": [
        "In this notebook, Data Science Tools and Ecosystem are summarized."
      ],
      "metadata": {
        "id": "oHM2Bh3_tu5_"
      }
    },
    {
      "cell_type": "markdown",
      "source": [
        "Objectives:\n",
        "-  List popular languages in data science.\n",
        "-  List popular libraries in data science.\n",
        "-  List popular open source tools in data science."
      ],
      "metadata": {
        "id": "5GpP_iUMIVSX"
      }
    },
    {
      "cell_type": "markdown",
      "source": [
        "Some of the popular languages Data Scientists use are:\n",
        "\n",
        "\n",
        "1.   Python\n",
        "2.  R\n",
        "3.  SQL\n",
        "\n"
      ],
      "metadata": {
        "id": "R7f-RVe0ukst"
      }
    },
    {
      "cell_type": "markdown",
      "source": [
        "Some of the commonly used libraries by Data Scientists use include:\n",
        "\n",
        "1.  Pandas\n",
        "2.  matplotlib\n",
        "3.  ggplot"
      ],
      "metadata": {
        "id": "f4fehGf2yQzW"
      }
    },
    {
      "cell_type": "markdown",
      "source": [
        "| Dsta Science Tools |\n",
        ":--------------------:\n",
        "| Apache Spark |\n",
        "| Jupyter Notebook |\n",
        "| Apache Hadoop |"
      ],
      "metadata": {
        "id": "pN_BLw9j6c8b"
      }
    },
    {
      "cell_type": "markdown",
      "source": [
        "###Below are some examples of evaluating arithkmatic expressions using Python."
      ],
      "metadata": {
        "id": "8y_VZ9M__RbR"
      }
    },
    {
      "cell_type": "code",
      "source": [
        "# This is a simple arithmatic expression to add and multiply integers.\n",
        "(3*4)+5"
      ],
      "metadata": {
        "colab": {
          "base_uri": "https://localhost:8080/"
        },
        "id": "51FMrPOd5goU",
        "outputId": "5b19550a-4a89-477d-873f-413e2fae0d83"
      },
      "execution_count": null,
      "outputs": [
        {
          "output_type": "execute_result",
          "data": {
            "text/plain": [
              "17"
            ]
          },
          "metadata": {},
          "execution_count": 3
        }
      ]
    },
    {
      "cell_type": "code",
      "source": [
        "# This will convert 200 minutes into hours.\n",
        "200/60"
      ],
      "metadata": {
        "colab": {
          "base_uri": "https://localhost:8080/"
        },
        "id": "X6NCqtPJE_DW",
        "outputId": "cdadb710-4ec9-48ad-d6ea-0ea8bc32a396"
      },
      "execution_count": null,
      "outputs": [
        {
          "output_type": "execute_result",
          "data": {
            "text/plain": [
              "3.3333333333333335"
            ]
          },
          "metadata": {},
          "execution_count": 4
        }
      ]
    },
    {
      "cell_type": "markdown",
      "source": [
        "##Author\n",
        "Mason Olivo"
      ],
      "metadata": {
        "id": "MyKjuGEITpa4"
      }
    }
  ]
}